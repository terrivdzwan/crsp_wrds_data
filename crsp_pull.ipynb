{
 "cells": [
  {
   "cell_type": "code",
   "execution_count": 4,
   "metadata": {},
   "outputs": [],
   "source": [
    "import pandas as pd\n",
    "import numpy as np\n",
    "import wrds\n",
    "from pandas.tseries.offsets import *\n",
    "import pickle as pkl"
   ]
  },
  {
   "cell_type": "code",
   "execution_count": 5,
   "metadata": {},
   "outputs": [
    {
     "name": "stdout",
     "output_type": "stream",
     "text": [
      "WRDS recommends setting up a .pgpass file.\n",
      "Created .pgpass file successfully.\n",
      "Loading library list...\n",
      "Done\n"
     ]
    }
   ],
   "source": [
    "# WRDS connection\n",
    "conn = wrds.Connection()\n",
    "\n",
    "## TTM functions\n",
    "def ttm4(series, df):\n",
    "    \"\"\"\n",
    "    :param series: variables' name\n",
    "    :param df: dataframe\n",
    "    :return: ttm4\n",
    "    \"\"\"\n",
    "    lag = pd.DataFrame()\n",
    "    for i in range(1, 4):\n",
    "        lag['%(series)s%(lag)s' % {'series': series, 'lag': i}] = df.groupby('permno')['%s' % series].shift(i)\n",
    "    result = df['%s' % series] + lag['%s1' % series] + lag['%s2' % series] + lag['%s3' % series]\n",
    "    return result\n",
    "\n",
    "\n",
    "def ttm12(series, df):\n",
    "    \"\"\"\n",
    "    :param series: variables' name\n",
    "    :param df: dataframe\n",
    "    :return: ttm12\n",
    "    \"\"\"\n",
    "    lag = pd.DataFrame()\n",
    "    for i in range(1, 12):\n",
    "        lag['%(series)s%(lag)s' % {'series': series, 'lag': i}] = df.groupby('permno')['%s' % series].shift(i)\n",
    "    result = df['%s' % series] + lag['%s1' % series] + lag['%s2' % series] + lag['%s3' % series] +\\\n",
    "             lag['%s4' % series] + lag['%s5' % series] + lag['%s6' % series] + lag['%s7' % series] +\\\n",
    "             lag['%s8' % series] + lag['%s9' % series] + lag['%s10' % series] + lag['%s11' % series]\n",
    "    return result\n",
    "#######################################################################################################################\n",
    "#                                                       CRSP Block                                                    #\n",
    "#######################################################################################################################\n",
    "# Create a CRSP Subsample with Monthly Stock \n",
    "# Select variables from the CRSP monthly stock\n",
    "crsp = conn.raw_sql(\"\"\"\n",
    "                      select a.prc, a.ret, a.retx, a.shrout, a.vol, a.cfacpr, a.cfacshr, a.date, a.permno, a.permco,\n",
    "                      b.ticker, b.ncusip, b.shrcd, b.exchcd\n",
    "                      from crsp.msf as a\n",
    "                      left join crsp.msenames as b\n",
    "                      on a.permno=b.permno\n",
    "                      and b.namedt<=a.date\n",
    "                      and a.date<=b.nameendt\n",
    "                      where a.date >= '01/01/1959'\n",
    "                      and b.exchcd between 1 and 3\n",
    "                      \"\"\")\n",
    "\n",
    "# change variable format to int\n",
    "crsp[['permco', 'permno', 'shrcd', 'exchcd']] = crsp[['permco', 'permno', 'shrcd', 'exchcd']].astype(int)\n",
    "\n",
    "# Line up date to be end of month\n",
    "crsp['date'] = pd.to_datetime(crsp['date'])\n",
    "crsp['monthend'] = crsp['date'] + MonthEnd(0)  # set all the date to the standard end date of month\n",
    "\n",
    "crsp = crsp.dropna(subset=['prc'])\n",
    "crsp['me'] = crsp['prc'].abs() * crsp['shrout']  # calculate market equity\n",
    "\n",
    "# if Market Equity is Nan then let return equals to 0\n",
    "crsp['ret'] = np.where(crsp['me'].isnull(), 0, crsp['ret'])\n",
    "crsp['retx'] = np.where(crsp['me'].isnull(), 0, crsp['retx'])\n",
    "\n",
    "# impute me\n",
    "crsp = crsp.sort_values(by=['permno', 'date']).drop_duplicates()\n",
    "crsp['me'] = np.where(crsp['permno'] == crsp['permno'].shift(1), crsp['me'].fillna(method='ffill'), crsp['me'])\n",
    "\n",
    "# Aggregate Market Cap\n",
    "'''\n",
    "When a firm (permco) has multiple securities (permno) on the same date, we aggregate all the \n",
    "MEs for that date and permco. The consolidated ME is then assigned to the permno with the largest ME.\n",
    "'''\n",
    "# sum of me across different permno belonging to same permco a given date\n",
    "crsp_summe = crsp.groupby(['monthend', 'permco'])['me'].sum().reset_index()\n",
    "# largest mktcap within a permco/date\n",
    "crsp_maxme = crsp.groupby(['monthend', 'permco'])['me'].max().reset_index()\n",
    "# join by monthend/maxme to find the permno\n",
    "crsp1 = pd.merge(crsp, crsp_maxme, how='inner', on=['monthend', 'permco', 'me'])\n",
    "# drop me column and replace with the sum \n",
    "crsp1 = crsp1.drop(['me'], axis=1)\n",
    "# join with sum of me to get the correct market cap info\n",
    "crsp2 = pd.merge(crsp1, crsp_summe, how='inner', on=['monthend', 'permco'])\n",
    "# sort by permno and date and also drop duplicates\n",
    "crsp2 = crsp2.sort_values(by=['permno', 'monthend']).drop_duplicates()"
   ]
  },
  {
   "cell_type": "code",
   "execution_count": 8,
   "metadata": {},
   "outputs": [],
   "source": [
    "crsp=crsp.sort_values(by='date')\n",
    "crsp_data=crsp[['permno','date','ret']]\n",
    "crsp_data.to_csv('crsp_price.csv')"
   ]
  },
  {
   "cell_type": "code",
   "execution_count": null,
   "metadata": {},
   "outputs": [],
   "source": []
  }
 ],
 "metadata": {
  "kernelspec": {
   "display_name": "Python 3",
   "language": "python",
   "name": "python3"
  },
  "language_info": {
   "codemirror_mode": {
    "name": "ipython",
    "version": 3
   },
   "file_extension": ".py",
   "mimetype": "text/x-python",
   "name": "python",
   "nbconvert_exporter": "python",
   "pygments_lexer": "ipython3",
   "version": "3.7.7"
  },
  "vscode": {
   "interpreter": {
    "hash": "d182267293e294d0d429c010fd011f93835f4f6004e11c599275a3c95852b9b7"
   }
  }
 },
 "nbformat": 4,
 "nbformat_minor": 2
}
